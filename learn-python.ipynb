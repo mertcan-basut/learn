{
  "nbformat": 4,
  "nbformat_minor": 0,
  "metadata": {
    "colab": {
      "provenance": [],
      "authorship_tag": "ABX9TyMcjWkngxwsaLurCUJIxUfH",
      "include_colab_link": true
    },
    "kernelspec": {
      "name": "python3",
      "display_name": "Python 3"
    },
    "language_info": {
      "name": "python"
    }
  },
  "cells": [
    {
      "cell_type": "markdown",
      "metadata": {
        "id": "view-in-github",
        "colab_type": "text"
      },
      "source": [
        "<a href=\"https://colab.research.google.com/github/mertcan-basut/learn/blob/main/learn-python.ipynb\" target=\"_parent\"><img src=\"https://colab.research.google.com/assets/colab-badge.svg\" alt=\"Open In Colab\"/></a>"
      ]
    },
    {
      "cell_type": "code",
      "execution_count": null,
      "metadata": {
        "id": "lX-QwMmPSQmi"
      },
      "outputs": [],
      "source": [
        "! python -m venv venv"
      ]
    },
    {
      "cell_type": "code",
      "source": [
        "! source venv/bin/activate\n",
        "! deactivate"
      ],
      "metadata": {
        "id": "z4QfIBnfT6ZN"
      },
      "execution_count": null,
      "outputs": []
    },
    {
      "cell_type": "code",
      "source": [
        "! pip install --upgrade pip"
      ],
      "metadata": {
        "id": "8L2YSo-WT7_W"
      },
      "execution_count": null,
      "outputs": []
    },
    {
      "cell_type": "code",
      "source": [
        "! pip --version"
      ],
      "metadata": {
        "id": "gc7xTRmTXiyu"
      },
      "execution_count": null,
      "outputs": []
    },
    {
      "cell_type": "code",
      "source": [
        "! pip install python-dotenv"
      ],
      "metadata": {
        "id": "cxlj4C8gXns1"
      },
      "execution_count": null,
      "outputs": []
    },
    {
      "cell_type": "code",
      "source": [
        "! pip freeze > requirements.txt\n",
        "! pip list"
      ],
      "metadata": {
        "id": "ffi9gkpbT-kx"
      },
      "execution_count": null,
      "outputs": []
    }
  ]
}